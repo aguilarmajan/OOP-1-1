{
  "nbformat": 4,
  "nbformat_minor": 0,
  "metadata": {
    "colab": {
      "name": "Classes and Objects.ipynb",
      "provenance": [],
      "authorship_tag": "ABX9TyNBCuaaHhq3Z1ZaW9lZpRiE",
      "include_colab_link": true
    },
    "kernelspec": {
      "name": "python3",
      "display_name": "Python 3"
    },
    "language_info": {
      "name": "python"
    }
  },
  "cells": [
    {
      "cell_type": "markdown",
      "metadata": {
        "id": "view-in-github",
        "colab_type": "text"
      },
      "source": [
        "<a href=\"https://colab.research.google.com/github/aguilarmajan/OOP-1-1/blob/main/Classes_and_Objects.ipynb\" target=\"_parent\"><img src=\"https://colab.research.google.com/assets/colab-badge.svg\" alt=\"Open In Colab\"/></a>"
      ]
    },
    {
      "cell_type": "markdown",
      "source": [
        "Application 2 - Write a python program that displays the fullname of a studennt, student number, age, course, school. Create a class name OOP_1_1 and create Info() method to display the information of a student with fullname, student_no, age, course, school as attributes\n",
        "\n"
      ],
      "metadata": {
        "id": "mVMuDai-1o56"
      }
    },
    {
      "cell_type": "code",
      "source": [
        "class OOP_1_1:\n",
        "  def __init__(self,fullname, student_no, age, course, school):\n",
        "   self.fullname = fullname\n",
        "   self.student_no = student_no\n",
        "   self.age = age\n",
        "   self.course = course\n",
        "   self.school = school\n",
        "\n",
        "  def Info(self):\n",
        "   #print(self.fullname,self.student_no,self.age,self.course,self.school)\n",
        "   print(\"My Name is\", self.fullname)\n",
        "   print(\"My Student Number is\", self.student_no)\n",
        "   print(\"My Age is\", self.age)\n",
        "   print(\"My Course is\", self.course)\n",
        "   print(\"My School is\", self.school)\n",
        "\n",
        "student = OOP_1_1 (\"Aron Majan B. Aguilar\",202102283,19,\"BSCpE\",\"Cavite State University, Indang Campus\")\n",
        "student.Info()"
      ],
      "metadata": {
        "colab": {
          "base_uri": "https://localhost:8080/"
        },
        "id": "TVhO3WMa2drR",
        "outputId": "07346d23-3d4f-49eb-d567-6a144c217380"
      },
      "execution_count": 6,
      "outputs": [
        {
          "output_type": "stream",
          "name": "stdout",
          "text": [
            "My Name is Aron Majan B. Aguilar\n",
            "My Student Number is 202102283\n",
            "My Age is 19\n",
            "My Course is BSCpE\n",
            "My School is Cavite State University, Indang Campus\n"
          ]
        }
      ]
    }
  ]
}